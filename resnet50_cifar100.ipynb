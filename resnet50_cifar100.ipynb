{
 "cells": [
  {
   "cell_type": "markdown",
   "metadata": {},
   "source": [
    "# ResNet50 Cifar100 Based Image Classification Retraining"
   ]
  },
  {
   "cell_type": "markdown",
   "metadata": {},
   "source": []
  },
  {
   "cell_type": "code",
   "execution_count": 21,
   "metadata": {},
   "outputs": [],
   "source": [
    "# Import required dependecies:\n",
    "import os\n",
    "import torch\n",
    "import platform\n",
    "import torch.nn as nn\n",
    "import torch.optim as optim\n",
    "import torchvision.transforms as transforms\n",
    "import torchvision.datasets as datasets\n",
    "from torchvision.models import resnet50\n",
    "from torch.utils.data import DataLoader\n",
    "import matplotlib.pyplot as plt"
   ]
  },
  {
   "cell_type": "code",
   "execution_count": 22,
   "metadata": {},
   "outputs": [],
   "source": [
    "# Define hyperparameters:\n",
    "num_epochs = 40\n",
    "LEARNING_RATE = 0.0005"
   ]
  },
  {
   "cell_type": "code",
   "execution_count": 23,
   "metadata": {},
   "outputs": [
    {
     "name": "stdout",
     "output_type": "stream",
     "text": [
      "Using device: cuda\n",
      "GPU Name: Orin\n",
      "CUDA Version: 12.6\n",
      "GPU Memory: 7.99 GB\n",
      "CPU: aarch64\n",
      "System: Linux 5.15.148-tegra\n"
     ]
    }
   ],
   "source": [
    "# Check for GPU\n",
    "device = torch.device(\"cuda\" if torch.cuda.is_available() else \"cpu\")\n",
    "print(f\"Using device: {device}\")\n",
    "\n",
    "# Display GPU details if available\n",
    "if device.type == \"cuda\":\n",
    "    print(f\"GPU Name: {torch.cuda.get_device_name(0)}\")\n",
    "    print(f\"CUDA Version: {torch.version.cuda}\")\n",
    "    print(f\"GPU Memory: {torch.cuda.get_device_properties(0).total_memory / 1e9:.2f} GB\")\n",
    "    \n",
    "# Display CPU details\n",
    "print(f\"CPU: {platform.processor()}\")\n",
    "print(f\"System: {platform.system()} {platform.release()}\")"
   ]
  },
  {
   "cell_type": "code",
   "execution_count": 24,
   "metadata": {},
   "outputs": [],
   "source": [
    "# Define transformations\n",
    "transform = transforms.Compose([\n",
    "    #transforms.Resize((224, 224)),\n",
    "    transforms.RandomHorizontalFlip(),\n",
    "    transforms.RandomRotation(10),\n",
    "    transforms.ToTensor(),\n",
    "    transforms.Normalize(mean=[0.485, 0.456, 0.406], std=[0.229, 0.224, 0.225])\n",
    "])"
   ]
  },
  {
   "cell_type": "code",
   "execution_count": 25,
   "metadata": {},
   "outputs": [
    {
     "name": "stdout",
     "output_type": "stream",
     "text": [
      "Files already downloaded and verified\n",
      "Files already downloaded and verified\n"
     ]
    }
   ],
   "source": [
    "# Load CIFAR-100 dataset\n",
    "train_dataset = datasets.CIFAR100(root=\"./data\", train=True, download=True, transform=transform)\n",
    "test_dataset = datasets.CIFAR100(root=\"./data\", train=False, download=True, transform=transform)\n",
    "\n",
    "train_loader = DataLoader(train_dataset, batch_size=32, shuffle=True, num_workers=4)\n",
    "test_loader = DataLoader(test_dataset, batch_size=32, shuffle=False, num_workers=4)"
   ]
  },
  {
   "cell_type": "code",
   "execution_count": 26,
   "metadata": {},
   "outputs": [],
   "source": [
    "# Load pre-trained ResNet50 model\n",
    "model = resnet50(pretrained=True)"
   ]
  },
  {
   "cell_type": "code",
   "execution_count": 27,
   "metadata": {},
   "outputs": [],
   "source": [
    "# Modify the final layer for CIFAR-100 (100 classes)\n",
    "num_ftrs = model.fc.in_features\n",
    "model.fc = nn.Linear(num_ftrs, 100)"
   ]
  },
  {
   "cell_type": "code",
   "execution_count": 28,
   "metadata": {},
   "outputs": [],
   "source": [
    "# Move model to device\n",
    "model = model.to(device)"
   ]
  },
  {
   "cell_type": "code",
   "execution_count": 29,
   "metadata": {},
   "outputs": [],
   "source": [
    "# Define loss function and optimizer\n",
    "criterion = nn.CrossEntropyLoss()\n",
    "optimizer = optim.Adam(model.parameters(), lr=LEARNING_RATE)"
   ]
  },
  {
   "cell_type": "code",
   "execution_count": 30,
   "metadata": {},
   "outputs": [
    {
     "name": "stdout",
     "output_type": "stream",
     "text": [
      "Epoch [1/40], Loss: 3.3249, Train Acc: 20.76%\n",
      "Validation Acc: 32.43%\n",
      "Epoch [2/40], Loss: 2.7373, Train Acc: 31.39%\n",
      "Validation Acc: 34.59%\n",
      "Epoch [3/40], Loss: 2.4608, Train Acc: 36.61%\n",
      "Validation Acc: 39.64%\n",
      "Epoch [4/40], Loss: 2.2132, Train Acc: 41.56%\n",
      "Validation Acc: 45.86%\n",
      "Epoch [5/40], Loss: 1.9403, Train Acc: 47.13%\n",
      "Validation Acc: 45.50%\n",
      "Epoch [6/40], Loss: 1.7855, Train Acc: 50.87%\n",
      "Validation Acc: 48.67%\n",
      "Epoch [7/40], Loss: 1.6658, Train Acc: 53.60%\n",
      "Validation Acc: 50.93%\n",
      "Epoch [8/40], Loss: 1.5520, Train Acc: 56.35%\n",
      "Validation Acc: 51.50%\n",
      "Epoch [9/40], Loss: 1.4302, Train Acc: 59.12%\n",
      "Validation Acc: 51.59%\n",
      "Epoch [10/40], Loss: 1.3040, Train Acc: 62.45%\n",
      "Validation Acc: 53.74%\n",
      "Epoch [11/40], Loss: 1.2083, Train Acc: 64.76%\n",
      "Validation Acc: 53.30%\n",
      "Epoch [12/40], Loss: 1.1120, Train Acc: 67.31%\n",
      "Validation Acc: 52.87%\n",
      "Epoch [13/40], Loss: 1.0164, Train Acc: 69.74%\n",
      "Validation Acc: 54.56%\n",
      "Epoch [14/40], Loss: 0.9476, Train Acc: 71.39%\n",
      "Validation Acc: 54.47%\n",
      "Epoch [15/40], Loss: 0.8526, Train Acc: 73.95%\n",
      "Validation Acc: 54.39%\n",
      "Epoch [16/40], Loss: 0.7944, Train Acc: 75.58%\n",
      "Validation Acc: 55.25%\n",
      "Epoch [17/40], Loss: 0.7018, Train Acc: 78.36%\n",
      "Validation Acc: 54.06%\n",
      "Epoch [18/40], Loss: 0.6646, Train Acc: 79.31%\n",
      "Validation Acc: 54.91%\n",
      "Epoch [19/40], Loss: 0.6126, Train Acc: 80.77%\n",
      "Validation Acc: 54.24%\n",
      "Epoch [20/40], Loss: 0.5733, Train Acc: 82.01%\n",
      "Validation Acc: 55.14%\n",
      "Epoch [21/40], Loss: 0.5185, Train Acc: 83.52%\n",
      "Validation Acc: 55.52%\n",
      "Epoch [22/40], Loss: 0.4916, Train Acc: 84.47%\n",
      "Validation Acc: 54.53%\n",
      "Epoch [23/40], Loss: 0.4507, Train Acc: 85.70%\n",
      "Validation Acc: 55.09%\n",
      "Epoch [24/40], Loss: 0.4358, Train Acc: 86.11%\n",
      "Validation Acc: 55.34%\n",
      "Epoch [25/40], Loss: 0.3938, Train Acc: 87.23%\n",
      "Validation Acc: 53.33%\n",
      "Epoch [26/40], Loss: 0.3793, Train Acc: 87.91%\n",
      "Validation Acc: 54.59%\n",
      "Epoch [27/40], Loss: 0.3619, Train Acc: 88.40%\n",
      "Validation Acc: 55.00%\n",
      "Epoch [28/40], Loss: 0.3394, Train Acc: 89.13%\n",
      "Validation Acc: 53.70%\n",
      "Epoch [29/40], Loss: 0.3215, Train Acc: 89.52%\n",
      "Validation Acc: 54.70%\n",
      "Epoch [30/40], Loss: 0.3186, Train Acc: 89.53%\n",
      "Validation Acc: 55.06%\n",
      "Epoch [31/40], Loss: 0.2935, Train Acc: 90.47%\n",
      "Validation Acc: 54.66%\n",
      "Epoch [32/40], Loss: 0.2768, Train Acc: 91.13%\n",
      "Validation Acc: 55.02%\n",
      "Epoch [33/40], Loss: 0.2758, Train Acc: 90.98%\n",
      "Validation Acc: 55.20%\n",
      "Epoch [34/40], Loss: 0.2658, Train Acc: 91.49%\n",
      "Validation Acc: 53.88%\n",
      "Epoch [35/40], Loss: 0.2598, Train Acc: 91.57%\n",
      "Validation Acc: 54.30%\n",
      "Epoch [36/40], Loss: 0.2446, Train Acc: 92.12%\n",
      "Validation Acc: 54.53%\n",
      "Epoch [37/40], Loss: 0.2377, Train Acc: 92.38%\n",
      "Validation Acc: 55.32%\n",
      "Epoch [38/40], Loss: 0.2286, Train Acc: 92.61%\n",
      "Validation Acc: 53.51%\n",
      "Epoch [39/40], Loss: 0.2212, Train Acc: 92.81%\n",
      "Validation Acc: 54.63%\n",
      "Epoch [40/40], Loss: 0.2095, Train Acc: 93.18%\n",
      "Validation Acc: 54.32%\n"
     ]
    }
   ],
   "source": [
    "# Training loop\n",
    "train_acc, val_acc = [], []\n",
    "\n",
    "for epoch in range(num_epochs):\n",
    "    model.train()\n",
    "    correct, total, epoch_loss = 0, 0, 0\n",
    "    \n",
    "    for images, labels in train_loader:\n",
    "        images, labels = images.to(device), labels.to(device)\n",
    "\n",
    "        optimizer.zero_grad()\n",
    "        outputs = model(images)\n",
    "        loss = criterion(outputs, labels)\n",
    "        loss.backward()\n",
    "        optimizer.step()\n",
    "\n",
    "        epoch_loss += loss.item()\n",
    "        _, predicted = torch.max(outputs, 1)\n",
    "        correct += (predicted == labels).sum().item()\n",
    "        total += labels.size(0)\n",
    "\n",
    "    train_acc.append(correct / total * 100)\n",
    "    print(f\"Epoch [{epoch+1}/{num_epochs}], Loss: {epoch_loss/len(train_loader):.4f}, Train Acc: {train_acc[-1]:.2f}%\")\n",
    "\n",
    "    # Validation\n",
    "    model.eval()\n",
    "    correct, total = 0, 0\n",
    "    with torch.no_grad():\n",
    "        for images, labels in test_loader:\n",
    "            images, labels = images.to(device), labels.to(device)\n",
    "            outputs = model(images)\n",
    "            _, predicted = torch.max(outputs, 1)\n",
    "            correct += (predicted == labels).sum().item()\n",
    "            total += labels.size(0)\n",
    "\n",
    "    val_acc.append(correct / total * 100)\n",
    "    print(f\"Validation Acc: {val_acc[-1]:.2f}%\")"
   ]
  },
  {
   "cell_type": "code",
   "execution_count": 34,
   "metadata": {},
   "outputs": [
    {
     "name": "stdout",
     "output_type": "stream",
     "text": [
      "Model saved successfully as: /home/aman-nvidia/My_files/cv_projects/image_classification_webGUI/resnet50_cifar100_40.pth\n"
     ]
    }
   ],
   "source": [
    "# Define base model path\n",
    "base_path = \"/home/aman-nvidia/My_files/cv_projects/image_classification_webGUI/resnet50_cifar100\"\n",
    "file_extension = \".pth\"\n",
    "\n",
    "# Function to create filename with num_epochs AND counter (for saving)\n",
    "def get_model_path_save(base_path, file_extension, num_epochs):  # Renamed to clarify\n",
    "    epoch_path = f\"{base_path}_{num_epochs}\"\n",
    "\n",
    "    counter = 1\n",
    "    model_path = f\"{epoch_path}{file_extension}\"\n",
    "\n",
    "    while os.path.exists(model_path):\n",
    "        model_path = f\"{epoch_path}_{counter}{file_extension}\"\n",
    "        counter += 1\n",
    "\n",
    "    return model_path\n",
    "\n",
    "# Save the model\n",
    "model_path = get_model_path_save(base_path, file_extension, num_epochs)\n",
    "torch.save(model.state_dict(), model_path)\n",
    "print(f\"Model saved successfully as: {model_path}\")"
   ]
  },
  {
   "cell_type": "code",
   "execution_count": 35,
   "metadata": {},
   "outputs": [
    {
     "data": {
      "image/png": "[encoded data removed]",
      "text/plain": [
       "<Figure size 640x480 with 1 Axes>"
      ]
     },
     "metadata": {},
     "output_type": "display_data"
    }
   ],
   "source": [
    "# Plot training history\n",
    "plt.plot(range(1, num_epochs + 1), train_acc, label=\"Train Accuracy\")\n",
    "plt.plot(range(1, num_epochs + 1), val_acc, label=\"Validation Accuracy\")\n",
    "plt.xlabel(\"Epochs\")\n",
    "plt.ylabel(\"Accuracy\")\n",
    "plt.legend()\n",
    "plt.title(\"Training History\")\n",
    "plt.show()"
   ]
  }
 ],
 "metadata": {
  "kernelspec": {
   "display_name": "cv_venv",
   "language": "python",
   "name": "python3"
  },
  "language_info": {
   "codemirror_mode": {
    "name": "ipython",
    "version": 3
   },
   "file_extension": ".py",
   "mimetype": "text/x-python",
   "name": "python",
   "nbconvert_exporter": "python",
   "pygments_lexer": "ipython3",
   "version": "3.10.12"
  }
 },
 "nbformat": 4,
 "nbformat_minor": 2
}
